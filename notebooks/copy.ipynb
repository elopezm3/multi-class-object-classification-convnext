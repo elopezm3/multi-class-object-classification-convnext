{
  "cells": [
    {
      "cell_type": "markdown",
      "metadata": {
        "id": "DHNAq9QI7vQn"
      },
      "source": [
        "# Multi-Class Object Classification with ConvNeXt\n",
        "\n",
        "This project implements transfer learning using ConvNeXt-Base-384-22k for classifying 20 diverse object categories including animals, food items, and everyday objects.\n",
        "\n",
        "## 🎯 Project Overview\n",
        "- **Dataset**: 8,000+ images across 20 categories (14 animals + 6 objects)\n",
        "- **Model**: ConvNeXt-Base-384-22k (85.8M parameters)\n",
        "- **Strategy**: Two-phase transfer learning (frozen → full fine-tuning)\n",
        "- **Target**: High-accuracy multi-class classification\n",
        "\n",
        "## 📊 Dataset Categories\n",
        "**Animals (14)**: birds, butterflies, cats, chickens, cows, dogs, ducks, elephants, fishes, horses, lions, seals, snakes, spiders\n",
        "\n",
        "**Objects (6)**: bottles, breads, cakes, handguns, lipsticks, vases"
      ]
    },
    {
      "cell_type": "code",
      "execution_count": null,
      "metadata": {
        "colab": {
          "base_uri": "https://localhost:8080/"
        },
        "id": "LUu6Lil9FUsi",
        "outputId": "968b7362-4cf1-42e1-de2a-8b9736b3a886"
      },
      "outputs": [],
      "source": [
        "#!gdown --fuzzy https://drive.google.com/file/d/10Y65ykpja1t6UWt3imPPbZkqhe0kOPL9/view?usp=sharing"
      ]
    },
    {
      "cell_type": "code",
      "execution_count": null,
      "metadata": {
        "id": "TUv7fHnrwyhH"
      },
      "outputs": [],
      "source": [
        "!unzip -q Animals_Dataset_v1.zip"
      ]
    },
    {
      "cell_type": "markdown",
      "metadata": {
        "id": "vYgSrwSSCY1e"
      },
      "source": [
        "Backup link for the training set."
      ]
    },
    {
      "cell_type": "code",
      "execution_count": null,
      "metadata": {
        "id": "gyXA1QhnCcVU"
      },
      "outputs": [],
      "source": [
        "# !gdown --fuzzy https://drive.google.com/file/d/1uc7uQ5myz7k74ZO460Q04B35_GekQeGi/view?usp=sharing"
      ]
    },
    {
      "cell_type": "code",
      "execution_count": null,
      "metadata": {
        "id": "crRX8eyW8cyN"
      },
      "outputs": [],
      "source": [
        "#!unzip -q Animals_Dataset.zip"
      ]
    },
    {
      "cell_type": "markdown",
      "metadata": {
        "id": "7beXJSfW0hAz"
      },
      "source": [
        "Backup link to download the test set."
      ]
    },
    {
      "cell_type": "code",
      "execution_count": null,
      "metadata": {
        "id": "5F3LPYch0XS4"
      },
      "outputs": [],
      "source": [
        "# !gdown --fuzzy https://drive.google.com/file/d/1Miu2UfUSBMRupxEpx4SsOKsUlbwVhG3l/view?usp=sharing"
      ]
    },
    {
      "cell_type": "code",
      "execution_count": null,
      "metadata": {
        "id": "_ikNF3Vj_0nT"
      },
      "outputs": [],
      "source": [
        "# !unzip -q test_set_v1.zip"
      ]
    },
    {
      "cell_type": "code",
      "execution_count": null,
      "metadata": {
        "colab": {
          "base_uri": "https://localhost:8080/"
        },
        "id": "RXuRM4jyCeCS",
        "outputId": "2aa11458-5917-485c-a4bd-f2e2fd6d8aab"
      },
      "outputs": [],
      "source": [
        "from google.colab import drive\n",
        "drive.mount('/content/drive')"
      ]
    },
    {
      "cell_type": "markdown",
      "metadata": {
        "id": "gQX-MjqlYtbg"
      },
      "source": [
        "The latest backup link"
      ]
    },
    {
      "cell_type": "code",
      "execution_count": null,
      "metadata": {
        "id": "A-ZkDmU3YxOf"
      },
      "outputs": [],
      "source": [
        "# !gdown --fuzzy https://drive.google.com/file/d/1KiP6FVT1w0hFQw9ZP6LKJa6D2vIJCsKk/view?usp=sharing"
      ]
    },
    {
      "cell_type": "code",
      "execution_count": null,
      "metadata": {
        "id": "7HEzf0Rpca5K"
      },
      "outputs": [],
      "source": [
        "# !unzip -q /content/test_set_v2.zip"
      ]
    },
    {
      "cell_type": "markdown",
      "metadata": {
        "id": "r6L0d1l8YH0b"
      },
      "source": [
        "## 📚 Environment Setup\n",
        "\n",
        "Installing required dependencies and importing necessary libraries for deep learning, data processing, and visualization."
      ]
    },
    {
      "cell_type": "code",
      "execution_count": null,
      "metadata": {
        "colab": {
          "base_uri": "https://localhost:8080/"
        },
        "id": "iyPfpTo7eJh5",
        "outputId": "1e5f6fcd-027f-40bb-c6dc-f12f73aa7fe0"
      },
      "outputs": [],
      "source": [
        "import os\n",
        "import requests\n",
        "import tarfile\n",
        "import time\n",
        "from torchvision import datasets, transforms\n",
        "from torch.utils.data import DataLoader, random_split\n",
        "import torchvision.models as models\n",
        "import torch.nn as nn\n",
        "import torch\n",
        "import PIL.Image\n",
        "import pathlib\n",
        "from torchsummary import summary\n",
        "import matplotlib.pyplot as plt\n",
        "%matplotlib inline\n",
        "import numpy as np\n",
        "\n",
        "# check if CUDA is available\n",
        "train_on_gpu = torch.cuda.is_available()\n",
        "\n",
        "if not train_on_gpu:\n",
        "    print('CUDA is not available.  Training on CPU ...')\n",
        "else:\n",
        "    print('CUDA is available!  Training on GPU ...')\n",
        "\n",
        "device = torch.device(\"cuda\" if torch.cuda.is_available() else \"cpu\")"
      ]
    },
    {
      "cell_type": "code",
      "execution_count": null,
      "metadata": {
        "id": "m8b7i8gsdZbA",
        "tags": []
      },
      "outputs": [],
      "source": [
        "import random\n",
        "def seed_all(seed=1029):\n",
        "    random.seed(seed)\n",
        "    os.environ['PYTHONHASHSEED'] = str(seed)\n",
        "    np.random.seed(seed)\n",
        "    torch.manual_seed(seed)\n",
        "    torch.cuda.manual_seed(seed)\n",
        "    torch.cuda.manual_seed_all(seed)  # if you are using multi-GPU.\n",
        "    torch.backends.cudnn.benchmark = False\n",
        "    torch.backends.cudnn.deterministic = True\n",
        "seed_all(1029)"
      ]
    },
    {
      "cell_type": "markdown",
      "metadata": {
        "id": "HqbG0NNzYLLg"
      },
      "source": [
        "## 🏷️ Dataset Analysis\n",
        "\n",
        "First, let's discover the available classes in our dataset and create proper label mappings for the model."
      ]
    },
    {
      "cell_type": "markdown",
      "metadata": {
        "id": "WFiEtKr3iXem"
      },
      "source": [
        "## Define class names"
      ]
    },
    {
      "cell_type": "code",
      "execution_count": null,
      "metadata": {
        "colab": {
          "base_uri": "https://localhost:8080/"
        },
        "id": "E-oV3_Aje1aW",
        "outputId": "e2324380-55cc-40f3-dab8-f67e56be6af7"
      },
      "outputs": [],
      "source": [
        "# class_names = ['birds', 'bottles', 'breads', 'butterflies', 'cakes', 'cats', 'chickens', 'cows', 'dogs', 'ducks',\n",
        "#                  'elephants', 'fishes', 'handguns', 'horses', 'lions', 'lipsticks', 'seals', 'snakes', 'spiders', 'vases']\n",
        "\n",
        "from torchvision import datasets\n",
        "data_dir = \"./FIT5215_Dataset\"\n",
        "\n",
        "# discover classes first (no transform needed)\n",
        "tmp_ds = datasets.ImageFolder(data_dir)\n",
        "class_names = tmp_ds.classes\n",
        "id2label = {i: name for i, name in enumerate(class_names)}\n",
        "label2id = {v: k for k, v in id2label.items()}\n",
        "\n",
        "print(class_names)\n",
        "print(id2label)\n",
        "print(label2id)\n"
      ]
    },
    {
      "cell_type": "markdown",
      "metadata": {
        "id": "BY0bC6B8iXen"
      },
      "source": [
        "## 🧠 Model Architecture\n",
        "\n",
        "We'll use ConvNeXt-Base-384-22k, a state-of-the-art vision transformer that achieved 85.8% accuracy on ImageNet.\n",
        "\n",
        "**Why ConvNeXt?**\n",
        "- Pre-trained on ImageNet-22k (more diverse than ImageNet-1k)\n",
        "- Excellent transfer learning capabilities\n",
        "- Supports higher resolution inputs (384×384)\n",
        "- No complex dependencies like MambaVision\n",
        "\n",
        "**Transfer Learning Strategy:**\n",
        "1. **Phase 1**: Freeze backbone, train only classifier head\n",
        "2. **Phase 2**: Unfreeze all layers, fine-tune end-to-end with lower learning rate"
      ]
    },
    {
      "cell_type": "markdown",
      "metadata": {
        "id": "HirKV6AmiXen"
      },
      "source": [
        "### Import transformers to then use ConvNeXt-Base-22k"
      ]
    },
    {
      "cell_type": "code",
      "execution_count": null,
      "metadata": {
        "id": "PZ5rz5nBiXen"
      },
      "outputs": [],
      "source": [
        "pip install -q transformers timm"
      ]
    },
    {
      "cell_type": "markdown",
      "metadata": {
        "id": "Jiur-1hSiXen"
      },
      "source": [
        "### Build pretrained model"
      ]
    },
    {
      "cell_type": "code",
      "execution_count": null,
      "metadata": {
        "colab": {
          "base_uri": "https://localhost:8080/",
          "height": 312,
          "referenced_widgets": [
            "1e47b7f8bc0a4dce89aa360afbdf1a32",
            "8990c338079747a8aa015780cbeb1eea",
            "52705bfff21d455eaa1b71a666ea044f",
            "b6f0216b336d448f98fa961694ed9128",
            "fd867b8f7d0c4614b82b21f8524b1161",
            "e73c72a8bc61400dbfa8f1013804a4fc",
            "e4e72fba615248cc8fca583b9f9add22",
            "8f72a9da440a4e09a0781f8ac6b53496",
            "59cb7bf31a784eea8ed938feb9f64793",
            "a2bc2565927d445b870377a1c1e9c0ab",
            "ba8afdf1b2a14b22a4a1c646579504ff",
            "c936442fd9cd4b5fb36173f9561c779e",
            "be1174f3ed5d419b8413af74c543d428",
            "8b69edadbbbd484b820d2555c74a2bfe",
            "77b6d286ceab4578a11e7098b438389c",
            "ae3e271d7b4b4e03af504dce88bd5a6c",
            "3c2a8748a46d49bcb089b17e04dc9f95",
            "e9fa1f490d184334be3a6fa761ef8d0b",
            "851c2e6cc22344c1ade350f17f6c8e79",
            "3a205d85f2304e08a8070d2fd82e4855",
            "6b3c382bd472465b884891c8e29d62da",
            "b039189b66c84e74a16503a63daab862",
            "f78a96887da748cc9108a2fddf7fb849",
            "6946960440294420a958466d308e236d",
            "913c1d4d354d48d5a455ddd7d16eb34a",
            "f935b2b04eff4595a1a48f05cd3f850f",
            "b512cbee9080459fa68b909c2c82e85c",
            "183f1fb0d4bb47adb633ddee8338e9b4",
            "8841f59c62cf4515a844e0c21f663746",
            "7d82a55a00df4f4fb2101f75f83cc3f5",
            "87974448ef6f494a82dc96789a7d1645",
            "c8ade36f6f5945febbd0af5766187e1c",
            "41d30411049b40e7afcf28e9d89053d0"
          ]
        },
        "id": "k77VD-bXiXen",
        "outputId": "87c62d49-6f3d-41e0-dfa9-dea390a50c96"
      },
      "outputs": [],
      "source": [
        "from transformers import AutoModelForImageClassification\n",
        "from timm.data.transforms_factory import create_transform\n",
        "\n",
        "# ConvNeXt-Base-22K is excellent and no mamba-ssm issues\n",
        "hf_model = AutoModelForImageClassification.from_pretrained(\n",
        "    \"facebook/convnext-base-384-22k-1k\",  # 85.8% ImageNet accuracy\n",
        "    num_labels=len(class_names),\n",
        "    id2label=id2label,\n",
        "    label2id=label2id,\n",
        "    ignore_mismatched_sizes=True,\n",
        ")\n",
        "\n",
        "# Optional: freeze all except classifier for faster fine-tuning\n",
        "for name, p in hf_model.named_parameters():\n",
        "    p.requires_grad = (\"classifier\" in name)\n",
        "\n",
        "# Small wrapper so your training code gets logits (tensor) instead of HF outputs\n",
        "import torch.nn as nn\n",
        "class HFWrapper(nn.Module):\n",
        "    def __init__(self, model):\n",
        "        super().__init__()\n",
        "        self.model = model\n",
        "    def forward(self, x):\n",
        "        return self.model(x).logits\n",
        "\n",
        "model = HFWrapper(hf_model).to(device)"
      ]
    },
    {
      "cell_type": "markdown",
      "metadata": {
        "id": "TJZYOkYKFUsj"
      },
      "source": [
        "## 🔄 Data Preprocessing & Augmentation\n",
        "\n",
        "Setting up data transforms optimized for ConvNeXt's requirements:\n",
        "- **Input Resolution**: 224x224\n",
        "- **Normalization**: ImageNet statistics\n",
        "- **Augmentation**: Random crops, flips, color jittering for training\n",
        "- **Validation**: Center crop only (no augmentation)\n",
        "\n",
        "**Key Improvement**: Using separate datasets instead of shared transforms to avoid corruption during training."
      ]
    },
    {
      "cell_type": "code",
      "execution_count": null,
      "metadata": {
        "id": "usWhMCu3c1ZB"
      },
      "outputs": [],
      "source": [
        "from PIL import ImageFile\n",
        "ImageFile.LOAD_TRUNCATED_IMAGES = True\n",
        "\n",
        "data_dir = \"./FIT5215_Dataset\"\n",
        "\n",
        "# Transforms\n",
        "input_resolution = (3, 224, 224)\n",
        "train_transform = create_transform(\n",
        "    input_size=input_resolution,\n",
        "    is_training=True,\n",
        "    mean=[0.485, 0.456, 0.406],\n",
        "    std=[0.229, 0.224, 0.225],\n",
        ")\n",
        "val_transform = create_transform(\n",
        "    input_size=input_resolution,\n",
        "    is_training=False,\n",
        "    mean=[0.485, 0.456, 0.406],\n",
        "    std=[0.229, 0.224, 0.225],\n",
        ")\n",
        "\n",
        "# Create separate datasets\n",
        "full_ds = datasets.ImageFolder(data_dir)\n",
        "train_size = int(0.9 * len(full_ds))\n",
        "val_size = len(full_ds) - train_size\n",
        "\n",
        "# Get indices\n",
        "g = torch.Generator().manual_seed(1029)\n",
        "train_idx, val_idx = torch.utils.data.random_split(\n",
        "    range(len(full_ds)), [train_size, val_size], generator=g\n",
        ")\n",
        "\n",
        "# Separate datasets with different transforms\n",
        "train_dataset = torch.utils.data.Subset(\n",
        "    datasets.ImageFolder(data_dir, transform=train_transform), train_idx.indices\n",
        ")\n",
        "val_dataset = torch.utils.data.Subset(\n",
        "    datasets.ImageFolder(data_dir, transform=val_transform), val_idx.indices\n",
        ")\n",
        "\n",
        "train_loader = DataLoader(train_dataset, batch_size=32, shuffle=True)\n",
        "val_loader = DataLoader(val_dataset, batch_size=32, shuffle=False)"
      ]
    },
    {
      "cell_type": "code",
      "execution_count": null,
      "metadata": {
        "id": "y7ffmpEje3Wy"
      },
      "outputs": [],
      "source": [
        "# obtain one batch of training images\n",
        "dataiter = iter(train_loader)\n",
        "images, labels = next(dataiter)\n",
        "images = images.numpy() # convert images to numpy for display"
      ]
    },
    {
      "cell_type": "code",
      "execution_count": null,
      "metadata": {
        "id": "UCDDpWCne-6V"
      },
      "outputs": [],
      "source": [
        "import math\n",
        "\n",
        "def imshow(img):\n",
        "    mean = np.array([0.485, 0.456, 0.406])  # Standard ImageNet mean\n",
        "    std = np.array([0.229, 0.224, 0.225])   # Standard ImageNet std\n",
        "    img = (np.transpose(img, (1,2,0)) * std) + mean\n",
        "    img = np.clip(img, 0, 1)\n",
        "    plt.imshow(img)\n",
        "\n",
        "def visualize_data(images, categories, images_per_row = 8):\n",
        "    class_names = ['birds', 'bottles', 'breads', 'butterflies', 'cakes', 'cats', 'chickens', 'cows', 'dogs', 'ducks',\n",
        "                  'elephants', 'fishes', 'handguns', 'horses', 'lions', 'lipsticks', 'seals', 'snakes', 'spiders', 'vases']\n",
        "    n_images = len(images)\n",
        "    n_rows = math.ceil(float(n_images)/images_per_row)\n",
        "    fig = plt.figure(figsize=(1.5*images_per_row, 1.5*n_rows))\n",
        "    fig.patch.set_facecolor('white')\n",
        "    for i in range(n_images):\n",
        "        plt.subplot(n_rows, images_per_row, i+1)\n",
        "        plt.xticks([])\n",
        "        plt.yticks([])\n",
        "        imshow(images[i])\n",
        "        class_index = categories[i]\n",
        "        plt.xlabel(class_names[class_index])\n",
        "    plt.show()"
      ]
    },
    {
      "cell_type": "code",
      "execution_count": null,
      "metadata": {
        "colab": {
          "base_uri": "https://localhost:8080/",
          "height": 517
        },
        "id": "b4sw7qzSfDF_",
        "outputId": "45fbf830-f163-43b2-a520-72cf6ef2577e"
      },
      "outputs": [],
      "source": [
        "visualize_data(images, labels)"
      ]
    },
    {
      "cell_type": "markdown",
      "metadata": {
        "id": "MLD0LhHQYnfK"
      },
      "source": [
        "### 📊 Dataset Statistics\n",
        "\n",
        "Let's examine the class distribution to ensure balanced training:"
      ]
    },
    {
      "cell_type": "code",
      "execution_count": null,
      "metadata": {
        "colab": {
          "base_uri": "https://localhost:8080/"
        },
        "id": "Rta0go_CgB1q",
        "outputId": "8c79484e-3e2a-4c28-d007-14a25dab82cc"
      },
      "outputs": [],
      "source": [
        "count_class = {}\n",
        "for _,outs in full_ds:\n",
        "    labels = class_names[outs]\n",
        "    if labels not in count_class:\n",
        "        count_class[labels] = 0\n",
        "    count_class[labels] += 1\n",
        "count_class"
      ]
    },
    {
      "cell_type": "markdown",
      "metadata": {
        "id": "m8-d-P6pGQea"
      },
      "source": [
        "## 🚀 Training Infrastructure\n",
        "\n",
        "Implementing robust training with:\n",
        "- **Early Stopping**: Prevents overfitting (patience=7)\n",
        "- **Learning Rate Scheduling**: ReduceLROnPlateau for adaptive learning\n",
        "- **Gradient Clipping**: Stabilizes training (max_norm=1.0)\n",
        "- **Checkpointing**: Saves best model automatically"
      ]
    },
    {
      "cell_type": "code",
      "execution_count": null,
      "metadata": {
        "id": "xH0gwrbvGQea"
      },
      "outputs": [],
      "source": [
        "def compute_loss(model, loss_fn, loader):\n",
        "  loss = 0\n",
        "  # Set model to eval mode for inference\n",
        "  model.eval()\n",
        "  with torch.no_grad():  # No need to track gradients for validation\n",
        "    for (batchX, batchY) in loader:\n",
        "      # Move data to the same device as the model\n",
        "      batchX, batchY = batchX.to(device).type(torch.float32), batchY.to(device).type(torch.long)\n",
        "      loss += loss_fn(model(batchX), batchY)\n",
        "  # Set model back to train mode\n",
        "  model.train()\n",
        "  return float(loss)/len(loader)"
      ]
    },
    {
      "cell_type": "code",
      "execution_count": null,
      "metadata": {
        "id": "TR4P9aAzGQea"
      },
      "outputs": [],
      "source": [
        "def compute_acc(model, loader):\n",
        "    model.eval()\n",
        "    correct = totals = 0\n",
        "    with torch.no_grad():\n",
        "        for batchX, batchY in loader:\n",
        "            batchX, batchY = batchX.to(device).float(), batchY.to(device)\n",
        "            predicted = model(batchX).argmax(1)\n",
        "            totals += batchY.size(0)\n",
        "            correct += (predicted == batchY).sum().item()\n",
        "    return correct / totals"
      ]
    },
    {
      "cell_type": "markdown",
      "metadata": {
        "id": "JLr4JLWnl8mf"
      },
      "source": [
        "### Early Stopping"
      ]
    },
    {
      "cell_type": "code",
      "execution_count": null,
      "metadata": {
        "id": "qU3KiMzbl8mf"
      },
      "outputs": [],
      "source": [
        "class EarlyStopping:\n",
        "    def __init__(self, patience=7, min_delta=0.001):\n",
        "        self.patience = patience\n",
        "        self.min_delta = min_delta\n",
        "        self.counter = 0\n",
        "        self.best_loss = float('inf')\n",
        "\n",
        "    def __call__(self, val_loss):\n",
        "        if val_loss < self.best_loss - self.min_delta:\n",
        "            self.best_loss = val_loss\n",
        "            self.counter = 0\n",
        "        else:\n",
        "            self.counter += 1\n",
        "\n",
        "        return self.counter >= self.patience"
      ]
    },
    {
      "cell_type": "code",
      "execution_count": null,
      "metadata": {
        "id": "zCrHCWoCGQea"
      },
      "outputs": [],
      "source": [
        "import time\n",
        "import pickle\n",
        "\n",
        "def fit(model=None, train_loader=None, valid_loader=None, optimizer=None,\n",
        "        scheduler=None, num_epochs=50, patience=7, verbose=True):\n",
        "    # Move the model to the device before initializing the optimizer\n",
        "    model.to(device)\n",
        "    if optimizer == None:\n",
        "        optim = torch.optim.Adam(model.parameters(), lr=0.001)\n",
        "    else:\n",
        "        optim = optimizer\n",
        "\n",
        "    # Initialize scheduler if not provided\n",
        "    if scheduler == None:\n",
        "        scheduler = torch.optim.lr_scheduler.ReduceLROnPlateau(\n",
        "            optim, mode='min', factor=0.5, patience=3, verbose=True\n",
        "        )\n",
        "\n",
        "    # Initialize early stopping\n",
        "    early_stopping = EarlyStopping(patience=patience)\n",
        "\n",
        "    history = dict()\n",
        "    history['val_loss'] = list()\n",
        "    history['val_acc'] = list()\n",
        "    history['train_loss'] = list()\n",
        "    history['train_acc'] = list()\n",
        "    history['lr'] = list()\n",
        "\n",
        "    # Track best model\n",
        "    best_val_acc = 0.0\n",
        "    best_model_state = None\n",
        "\n",
        "    try:  # Add try-except to handle interruptions gracefully\n",
        "        for epoch in range(num_epochs):\n",
        "            start = time.time()\n",
        "            model.train()\n",
        "\n",
        "            for (X, y) in train_loader:\n",
        "                # Move input data to the same device as the model\n",
        "                X, y = X.to(device), y.to(device)\n",
        "                # Forward pass\n",
        "                outputs = model(X.type(torch.float32))\n",
        "                loss = loss_fn(outputs, y.type(torch.long))\n",
        "                # Backward and optimize\n",
        "                optim.zero_grad()\n",
        "                loss.backward()\n",
        "                # Add gradient clipping\n",
        "                torch.nn.utils.clip_grad_norm_(model.parameters(), max_norm=1.0)\n",
        "                optim.step()\n",
        "\n",
        "            # Losses and accuracies for epoch\n",
        "            val_loss = compute_loss(model, loss_fn, valid_loader)\n",
        "            val_acc = compute_acc(model, valid_loader)\n",
        "            train_loss = compute_loss(model, loss_fn, train_loader)\n",
        "            train_acc = compute_acc(model, train_loader)\n",
        "\n",
        "            # Update learning rate\n",
        "            scheduler.step(val_loss)\n",
        "            current_lr = optim.param_groups[0]['lr']\n",
        "\n",
        "            # Store history\n",
        "            history['val_loss'].append(val_loss)\n",
        "            history['val_acc'].append(val_acc)\n",
        "            history['train_loss'].append(train_loss)\n",
        "            history['train_acc'].append(train_acc)\n",
        "            history['lr'].append(current_lr)\n",
        "\n",
        "            # Save history after each epoch\n",
        "            with open('training_history.pkl', 'wb') as f:\n",
        "                pickle.dump(history, f)\n",
        "\n",
        "            # Save best model\n",
        "            if val_acc > best_val_acc:\n",
        "                best_val_acc = val_acc\n",
        "                best_model_state = model.state_dict().copy()\n",
        "                # Save checkpoint\n",
        "                torch.save({\n",
        "                    'epoch': epoch,\n",
        "                    'model_state_dict': best_model_state,\n",
        "                    'val_acc': val_acc,\n",
        "                    'optimizer_state_dict': optim.state_dict(),\n",
        "                    'scheduler_state_dict': scheduler.state_dict(),\n",
        "                    'history': history,  # Save history in checkpoint too\n",
        "                }, 'best_model_kaggle.pth')\n",
        "                print(f\"Saved best model with validation accuracy: {val_acc*100:.2f}%\")\n",
        "\n",
        "            end = time.time()\n",
        "            print(f\"total time for each epoch {end - start}\")  # time in seconds\n",
        "\n",
        "            if verbose:\n",
        "                print(f\"Epoch {epoch+1}/{num_epochs}\")\n",
        "                print(f\"LR: {current_lr:.6f}\")\n",
        "                print(f\"train loss= {train_loss:.4f} - train acc= {train_acc*100:.2f}% - valid loss= {val_loss:.4f} - valid acc= {val_acc*100:.2f}%\")\n",
        "\n",
        "            # Early stopping check\n",
        "            if early_stopping(val_loss):\n",
        "                print(f\"Early stopping triggered at epoch {epoch+1}\")\n",
        "                break\n",
        "\n",
        "    except KeyboardInterrupt:\n",
        "        print(\"Training interrupted by user!\")\n",
        "        print(f\"Completed {len(history['val_loss'])} epochs\")\n",
        "\n",
        "    # Load best model at the end\n",
        "    if best_model_state is not None:\n",
        "        model.load_state_dict(best_model_state)\n",
        "        print(f\"Loaded best model with validation accuracy: {best_val_acc*100:.2f}%\")\n",
        "\n",
        "    return history"
      ]
    },
    {
      "cell_type": "markdown",
      "metadata": {
        "id": "L23sZjWhGQeb"
      },
      "source": [
        "## 🎯 Phase 1: Classifier-Only Training\n",
        "\n",
        "Training only the classification head while keeping the pre-trained backbone frozen. This allows the model to learn task-specific features quickly without disturbing the powerful pre-trained representations.\n",
        "\n",
        "**Hyperparameters:**\n",
        "- **Optimizer**: Adam (lr=0.001)\n",
        "- **Scheduler**: ReduceLROnPlateau (factor=0.5, patience=3)\n",
        "- **Early Stopping**: patience=7\n",
        "- **Max Epochs**: 30 (will likely stop early)"
      ]
    },
    {
      "cell_type": "code",
      "execution_count": null,
      "metadata": {
        "colab": {
          "base_uri": "https://localhost:8080/"
        },
        "id": "TwNV7mPdGQeb",
        "outputId": "3611ba27-cdc0-41d5-c294-cbf0e2a78533",
        "tags": []
      },
      "outputs": [],
      "source": [
        "from torch import optim\n",
        "optim_dict = {\"Adam\":optim.Adam, \"Adadelta\":optim.Adadelta, \"Adagrad\":optim.Adagrad,\n",
        "              \"Adamax\":optim.Adamax, \"AdamW\": optim.AdamW, \"ASGD\":optim.ASGD,\n",
        "              \"NAdam\":optim.NAdam, \"RMSprop\":optim.RMSprop, \"RAdam\":optim.RAdam,\n",
        "              \"Rprop\": optim.Rprop, \"SGD\":optim.SGD}\n",
        "\n",
        "\n",
        "# Loss and optimizer\n",
        "learning_rate = 0.001\n",
        "loss_fn = nn.CrossEntropyLoss()\n",
        "optimizer = optim_dict[\"Adam\"](filter(lambda p: p.requires_grad, hf_model.parameters()), lr=learning_rate)\n",
        "\n",
        "#dnn_model = model\n",
        "scheduler = torch.optim.lr_scheduler.ReduceLROnPlateau(optimizer, mode='min', factor=0.5, patience=3)\n",
        "history = fit(model=model, train_loader=train_loader, valid_loader = val_loader,\n",
        "    optimizer = optimizer, scheduler=scheduler, num_epochs= 30, patience=7, verbose = True)"
      ]
    },
    {
      "cell_type": "code",
      "execution_count": null,
      "metadata": {
        "colab": {
          "base_uri": "https://localhost:8080/"
        },
        "id": "1Szs0sINiXer",
        "outputId": "e596aa5b-c8a7-4054-d3a9-491c31ccc4e6"
      },
      "outputs": [],
      "source": [
        "checkpoint = torch.load('best_model_kaggle.pth', map_location=device)\n",
        "model.load_state_dict(checkpoint['model_state_dict'])"
      ]
    },
    {
      "cell_type": "markdown",
      "metadata": {
        "id": "9jBQSYc2ZBAX"
      },
      "source": [
        "## 📈 Phase 1 Results Analysis\n",
        "\n",
        "Let's analyze the training progress and visualize the learning curves:"
      ]
    },
    {
      "cell_type": "code",
      "execution_count": null,
      "metadata": {
        "colab": {
          "base_uri": "https://localhost:8080/",
          "height": 410
        },
        "id": "A0IyvluXZCbT",
        "outputId": "f57214c2-822d-44c5-9149-2eb6134fc9a1"
      },
      "outputs": [],
      "source": [
        "# Visualize Phase 1 training progress\n",
        "if 'history' in locals() and history is not None:\n",
        "    fig, (ax1, ax2) = plt.subplots(1, 2, figsize=(15, 5))\n",
        "\n",
        "    # Loss curves\n",
        "    ax1.plot(history['train_loss'], 'r-', label='Training Loss', linewidth=2)\n",
        "    ax1.plot(history['val_loss'], 'b-', label='Validation Loss', linewidth=2)\n",
        "    ax1.set_title('Phase 1: Loss Curves', fontsize=14, fontweight='bold')\n",
        "    ax1.set_xlabel('Epoch')\n",
        "    ax1.set_ylabel('Loss')\n",
        "    ax1.legend()\n",
        "    ax1.grid(True, alpha=0.3)\n",
        "\n",
        "    # Accuracy curves\n",
        "    ax2.plot([acc*100 for acc in history['train_acc']], 'r-', label='Training Accuracy', linewidth=2)\n",
        "    ax2.plot([acc*100 for acc in history['val_acc']], 'b-', label='Validation Accuracy', linewidth=2)\n",
        "    ax2.set_title('Phase 1: Accuracy Curves', fontsize=14, fontweight='bold')\n",
        "    ax2.set_xlabel('Epoch')\n",
        "    ax2.set_ylabel('Accuracy (%)')\n",
        "    ax2.legend()\n",
        "    ax2.grid(True, alpha=0.3)\n",
        "\n",
        "    plt.tight_layout()\n",
        "    plt.show()\n",
        "\n",
        "    # Print best results\n",
        "    best_val_acc = max(history['val_acc'])\n",
        "    best_epoch = history['val_acc'].index(best_val_acc)\n",
        "    print(f\"🏆 Phase 1 Best Results:\")\n",
        "    print(f\"   • Best Validation Accuracy: {best_val_acc*100:.2f}%\")\n",
        "    print(f\"   • Achieved at Epoch: {best_epoch + 1}\")\n",
        "    print(f\"   • Total Epochs Completed: {len(history['val_acc'])}\")\n",
        "else:\n",
        "    print(\"⚠️ No training history available. Training may have been interrupted.\")"
      ]
    },
    {
      "cell_type": "markdown",
      "metadata": {
        "id": "N51v-6V7VWZa"
      },
      "source": [
        "## 🔥 Phase 2: Full Model Fine-Tuning\n",
        "\n",
        "Now we unfreeze all layers and fine-tune the entire model with a much smaller learning rate. This allows the pre-trained features to adapt specifically to our dataset while being careful not to destroy the learned representations.\n",
        "\n",
        "**Key Changes:**\n",
        "- **All layers unfrozen**: Full model training\n",
        "- **Lower Learning Rate**: 1e-4 (10x smaller)\n",
        "- **Weight Decay**: 1e-4 (regularization)\n",
        "- **Shorter Patience**: 5 epochs (faster convergence expected)"
      ]
    },
    {
      "cell_type": "code",
      "execution_count": null,
      "metadata": {
        "colab": {
          "base_uri": "https://localhost:8080/"
        },
        "id": "RjDW6usOiXe0",
        "outputId": "7cc5cba3-23ad-46e4-f715-d2c1f2cca4d6"
      },
      "outputs": [],
      "source": [
        "# Phase 2: unfreeze everything and fine‑tune with a smaller LR\n",
        "\n",
        "# 1) Unfreeze all layers\n",
        "for p in hf_model.parameters():\n",
        "    p.requires_grad = True\n",
        "\n",
        "# 2) Recreate optimizer for all params (smaller LR + weight decay)\n",
        "from torch import optim\n",
        "optimizer_ft = optim.AdamW(hf_model.parameters(), lr=1e-4, weight_decay=1e-4)\n",
        "\n",
        "# 3) New scheduler (shorter patience for a short fine‑tune) - removed verbose\n",
        "scheduler_ft = torch.optim.lr_scheduler.ReduceLROnPlateau(\n",
        "    optimizer_ft, mode='min', factor=0.5, patience=2\n",
        ")\n",
        "\n",
        "# 4) Continue training for a few epochs; early stopping will cut it if no gain\n",
        "history_ft = fit(\n",
        "    model=model,\n",
        "    train_loader=train_loader,\n",
        "    valid_loader=val_loader,\n",
        "    optimizer=optimizer_ft,\n",
        "    scheduler=scheduler_ft,\n",
        "    num_epochs=10,   # 5–15 recommended\n",
        "    patience=5,\n",
        "    verbose=True  # Changed to True so you can see progress\n",
        ")"
      ]
    },
    {
      "cell_type": "markdown",
      "metadata": {
        "id": "qNjeT-EyiRx3"
      },
      "source": [
        "# Evaluate model on the testing set, get the csv file and upload to kaggle website."
      ]
    },
    {
      "cell_type": "markdown",
      "metadata": {
        "id": "8zYDKsY1ZMuI"
      },
      "source": [
        "## 🧪 Model Evaluation\n",
        "\n",
        "Loading the best checkpoint and evaluating on the test set to generate predictions for submission.\n",
        "\n",
        "**Test Setup:**\n",
        "- **Batch Size**: Reduced to avoid memory issues\n",
        "- **Transforms**: Same as validation (center crop, no augmentation)\n",
        "- **Output**: CSV file ready for Kaggle submission"
      ]
    },
    {
      "cell_type": "code",
      "execution_count": null,
      "metadata": {
        "id": "2Ly1DYkuZXvL"
      },
      "outputs": [],
      "source": [
        "# Visualize sample predictions\n",
        "def show_predictions(model, test_loader, device, num_samples=8):\n",
        "    model.eval()\n",
        "    fig, axes = plt.subplots(2, 4, figsize=(16, 8))\n",
        "    axes = axes.ravel()\n",
        "\n",
        "    with torch.no_grad():\n",
        "        batch_x, batch_y = next(iter(test_loader))\n",
        "        batch_x = batch_x[:num_samples].to(device)\n",
        "\n",
        "        outputs = model(batch_x)\n",
        "        probabilities = torch.softmax(outputs, dim=1)\n",
        "        predictions = torch.argmax(outputs, dim=1)\n",
        "        confidences = torch.max(probabilities, dim=1)[0]\n",
        "\n",
        "        for i in range(num_samples):\n",
        "            # Denormalize image for display\n",
        "            img = batch_x[i].cpu()\n",
        "            mean = torch.tensor([0.485, 0.456, 0.406]).view(3, 1, 1)\n",
        "            std = torch.tensor([0.229, 0.224, 0.225]).view(3, 1, 1)\n",
        "            img = img * std + mean\n",
        "            img = torch.clamp(img, 0, 1)\n",
        "\n",
        "            # Display\n",
        "            axes[i].imshow(img.permute(1, 2, 0))\n",
        "            axes[i].axis('off')\n",
        "\n",
        "            pred_class = class_names[predictions[i].item()]\n",
        "            confidence = confidences[i].item() * 100\n",
        "\n",
        "            color = 'green' if confidence > 90 else 'orange' if confidence > 70 else 'red'\n",
        "            axes[i].set_title(f'{pred_class}\\n{confidence:.1f}% confidence',\n",
        "                             fontsize=12, fontweight='bold', color=color)\n",
        "\n",
        "    plt.suptitle('Sample Predictions with Confidence Scores', fontsize=16, fontweight='bold')\n",
        "    plt.tight_layout()\n",
        "    plt.show()\n",
        "\n",
        "# Show sample predictions\n",
        "if 'test_loader' in locals():\n",
        "    show_predictions(model, test_loader, device)"
      ]
    },
    {
      "cell_type": "code",
      "execution_count": null,
      "metadata": {
        "id": "yTXWjsYsp857"
      },
      "outputs": [],
      "source": [
        "# !gdown --fuzzy https://drive.google.com/file/d/1gntVodsAzZntMb1qW2UCns-RdpckfQh0/view?usp=sharing"
      ]
    },
    {
      "cell_type": "code",
      "execution_count": null,
      "metadata": {
        "id": "L8G8nvBKqGP3"
      },
      "outputs": [],
      "source": [
        "!unzip -q test_set.zip"
      ]
    },
    {
      "cell_type": "code",
      "execution_count": null,
      "metadata": {
        "colab": {
          "base_uri": "https://localhost:8080/"
        },
        "id": "Z47SOTvls3RM",
        "outputId": "eee7c71b-735c-4dc8-905e-15f6bf73829d"
      },
      "outputs": [],
      "source": [
        "test_data_dir = \"./test_set\"\n",
        "\n",
        "from timm.data.transforms_factory import create_transform\n",
        "\n",
        "test_transform = create_transform(\n",
        "    input_size=(3, 224, 224),\n",
        "    is_training=False,\n",
        "    mean=[0.485, 0.456, 0.406],  # Standard ImageNet mean\n",
        "    std=[0.229, 0.224, 0.225],   # Standard ImageNet std\n",
        ")\n",
        "\n",
        "testset = datasets.ImageFolder(test_data_dir, transform=test_transform)\n",
        "print(\"Number of instance in test_set: %s\" % len(testset))\n",
        "test_loader = DataLoader(testset, batch_size=32, shuffle=False)  # Much smaller batch\n"
      ]
    },
    {
      "cell_type": "code",
      "execution_count": null,
      "metadata": {
        "id": "180qpEBIFUsl",
        "tags": []
      },
      "outputs": [],
      "source": [
        "import torch\n",
        "import pandas as pd\n",
        "\n",
        "def save_prediction_to_csv(model, loader, device, output_file=\"submission.csv\"):\n",
        "    model.eval()\n",
        "    predictions = []\n",
        "    image_ids = []\n",
        "    df = {\n",
        "    \"ID\": [],\n",
        "    \"Label\": []\n",
        "    }\n",
        "    total = 0\n",
        "    with torch.no_grad():\n",
        "        for i, (batchX, batchY) in enumerate(loader):\n",
        "            batchX, batchY = batchX.to(device), batchY.to(device)\n",
        "            outputs = model(batchX.float())  # Convert to float32 and feed batch to the model\n",
        "            predicted = torch.argmax(outputs, dim=1)  # Get the predicted class\n",
        "            total += predicted.size(0)\n",
        "            for ids, pred in enumerate(predicted):\n",
        "                label = class_names[pred.to(device).item()]\n",
        "                df[\"ID\"].append(i*500+ids)\n",
        "                df[\"Label\"].append(label)\n",
        "    df[\"ID\"] = [i for i in range(total)]\n",
        "    # Create a DataFrame\n",
        "    df = pd.DataFrame(df)\n",
        "    # Save to CSV\n",
        "    df.to_csv(output_file, index=False)"
      ]
    },
    {
      "cell_type": "code",
      "execution_count": null,
      "metadata": {
        "colab": {
          "base_uri": "https://localhost:8080/"
        },
        "id": "KR3gRHtsGTOm",
        "outputId": "0aa1c6c9-c5ad-40ac-97c4-774ee4be206e",
        "tags": []
      },
      "outputs": [],
      "source": [
        "checkpoint = torch.load('best_model_kaggle.pth')\n",
        "model.load_state_dict(checkpoint['model_state_dict'])\n",
        "print(f\"Loaded checkpoint from epoch {checkpoint['epoch']} with validation accuracy: {checkpoint['val_acc']*100:.2f}%\")\n",
        "\n",
        "save_prediction_to_csv(model, test_loader, device)"
      ]
    },
    {
      "cell_type": "markdown",
      "metadata": {
        "id": "Za9bR0dyZjhW"
      },
      "source": [
        "## 🎉 Results Summary\n",
        "\n",
        "### Final Performance\n",
        "- **Validation Accuracy**: 99.79% achieved at epoch 2. Training after this epoch (including Phase 2) did not seem to improve the accuracy\n",
        "- **Training Strategy**: Two-phase transfer learning\n",
        "- **Model**: ConvNeXt-Base-384-22k\n",
        "- **Total Parameters**: 85.8M\n",
        "\n",
        "### Key Technical Decisions\n",
        "1. **Higher Resolution**: 224×224 instead of 384×384 because of resources, 384x384 was taking very long for the available resources\n",
        "2. **Separate Datasets**: Avoided transform corruption during training\n",
        "3. **Gradient Clipping**: Stabilized training with large model\n",
        "4. **Early Stopping**: Prevented overfitting automatically\n",
        "\n",
        "### Lessons Learned\n",
        "- Transfer learning with modern architectures can achieve excellent results quickly.\n",
        "- Proper data handling (separate train/val datasets) is crucial for stability\n",
        "\n",
        "---\n",
        "*This project demonstrates effective transfer learning techniques and achieves state-of-the-art performance on multi-class object classification.*"
      ]
    }
  ],
  "metadata": {
    "accelerator": "GPU",
    "colab": {
      "gpuType": "T4",
      "provenance": []
    },
    "kernelspec": {
      "display_name": "Python 3",
      "language": "python",
      "name": "python3"
    },
    "language_info": {
      "codemirror_mode": {
        "name": "ipython",
        "version": 3
      },
      "file_extension": ".py",
      "mimetype": "text/x-python",
      "name": "python",
      "nbconvert_exporter": "python",
      "pygments_lexer": "ipython3",
      "version": "3.12.2"
    },
    "widgets": {
      "application/vnd.jupyter.widget-state+json": {
        "183f1fb0d4bb47adb633ddee8338e9b4": {
          "model_module": "@jupyter-widgets/base",
          "model_module_version": "1.2.0",
          "model_name": "LayoutModel",
          "state": {
            "_model_module": "@jupyter-widgets/base",
            "_model_module_version": "1.2.0",
            "_model_name": "LayoutModel",
            "_view_count": null,
            "_view_module": "@jupyter-widgets/base",
            "_view_module_version": "1.2.0",
            "_view_name": "LayoutView",
            "align_content": null,
            "align_items": null,
            "align_self": null,
            "border": null,
            "bottom": null,
            "display": null,
            "flex": null,
            "flex_flow": null,
            "grid_area": null,
            "grid_auto_columns": null,
            "grid_auto_flow": null,
            "grid_auto_rows": null,
            "grid_column": null,
            "grid_gap": null,
            "grid_row": null,
            "grid_template_areas": null,
            "grid_template_columns": null,
            "grid_template_rows": null,
            "height": null,
            "justify_content": null,
            "justify_items": null,
            "left": null,
            "margin": null,
            "max_height": null,
            "max_width": null,
            "min_height": null,
            "min_width": null,
            "object_fit": null,
            "object_position": null,
            "order": null,
            "overflow": null,
            "overflow_x": null,
            "overflow_y": null,
            "padding": null,
            "right": null,
            "top": null,
            "visibility": null,
            "width": null
          }
        },
        "1e47b7f8bc0a4dce89aa360afbdf1a32": {
          "model_module": "@jupyter-widgets/controls",
          "model_module_version": "1.5.0",
          "model_name": "HBoxModel",
          "state": {
            "_dom_classes": [],
            "_model_module": "@jupyter-widgets/controls",
            "_model_module_version": "1.5.0",
            "_model_name": "HBoxModel",
            "_view_count": null,
            "_view_module": "@jupyter-widgets/controls",
            "_view_module_version": "1.5.0",
            "_view_name": "HBoxView",
            "box_style": "",
            "children": [
              "IPY_MODEL_8990c338079747a8aa015780cbeb1eea",
              "IPY_MODEL_52705bfff21d455eaa1b71a666ea044f",
              "IPY_MODEL_b6f0216b336d448f98fa961694ed9128"
            ],
            "layout": "IPY_MODEL_fd867b8f7d0c4614b82b21f8524b1161"
          }
        },
        "3a205d85f2304e08a8070d2fd82e4855": {
          "model_module": "@jupyter-widgets/controls",
          "model_module_version": "1.5.0",
          "model_name": "ProgressStyleModel",
          "state": {
            "_model_module": "@jupyter-widgets/controls",
            "_model_module_version": "1.5.0",
            "_model_name": "ProgressStyleModel",
            "_view_count": null,
            "_view_module": "@jupyter-widgets/base",
            "_view_module_version": "1.2.0",
            "_view_name": "StyleView",
            "bar_color": null,
            "description_width": ""
          }
        },
        "3c2a8748a46d49bcb089b17e04dc9f95": {
          "model_module": "@jupyter-widgets/base",
          "model_module_version": "1.2.0",
          "model_name": "LayoutModel",
          "state": {
            "_model_module": "@jupyter-widgets/base",
            "_model_module_version": "1.2.0",
            "_model_name": "LayoutModel",
            "_view_count": null,
            "_view_module": "@jupyter-widgets/base",
            "_view_module_version": "1.2.0",
            "_view_name": "LayoutView",
            "align_content": null,
            "align_items": null,
            "align_self": null,
            "border": null,
            "bottom": null,
            "display": null,
            "flex": null,
            "flex_flow": null,
            "grid_area": null,
            "grid_auto_columns": null,
            "grid_auto_flow": null,
            "grid_auto_rows": null,
            "grid_column": null,
            "grid_gap": null,
            "grid_row": null,
            "grid_template_areas": null,
            "grid_template_columns": null,
            "grid_template_rows": null,
            "height": null,
            "justify_content": null,
            "justify_items": null,
            "left": null,
            "margin": null,
            "max_height": null,
            "max_width": null,
            "min_height": null,
            "min_width": null,
            "object_fit": null,
            "object_position": null,
            "order": null,
            "overflow": null,
            "overflow_x": null,
            "overflow_y": null,
            "padding": null,
            "right": null,
            "top": null,
            "visibility": null,
            "width": null
          }
        },
        "41d30411049b40e7afcf28e9d89053d0": {
          "model_module": "@jupyter-widgets/controls",
          "model_module_version": "1.5.0",
          "model_name": "DescriptionStyleModel",
          "state": {
            "_model_module": "@jupyter-widgets/controls",
            "_model_module_version": "1.5.0",
            "_model_name": "DescriptionStyleModel",
            "_view_count": null,
            "_view_module": "@jupyter-widgets/base",
            "_view_module_version": "1.2.0",
            "_view_name": "StyleView",
            "description_width": ""
          }
        },
        "52705bfff21d455eaa1b71a666ea044f": {
          "model_module": "@jupyter-widgets/controls",
          "model_module_version": "1.5.0",
          "model_name": "FloatProgressModel",
          "state": {
            "_dom_classes": [],
            "_model_module": "@jupyter-widgets/controls",
            "_model_module_version": "1.5.0",
            "_model_name": "FloatProgressModel",
            "_view_count": null,
            "_view_module": "@jupyter-widgets/controls",
            "_view_module_version": "1.5.0",
            "_view_name": "ProgressView",
            "bar_style": "success",
            "description": "",
            "description_tooltip": null,
            "layout": "IPY_MODEL_8f72a9da440a4e09a0781f8ac6b53496",
            "max": 1,
            "min": 0,
            "orientation": "horizontal",
            "style": "IPY_MODEL_59cb7bf31a784eea8ed938feb9f64793",
            "value": 1
          }
        },
        "59cb7bf31a784eea8ed938feb9f64793": {
          "model_module": "@jupyter-widgets/controls",
          "model_module_version": "1.5.0",
          "model_name": "ProgressStyleModel",
          "state": {
            "_model_module": "@jupyter-widgets/controls",
            "_model_module_version": "1.5.0",
            "_model_name": "ProgressStyleModel",
            "_view_count": null,
            "_view_module": "@jupyter-widgets/base",
            "_view_module_version": "1.2.0",
            "_view_name": "StyleView",
            "bar_color": null,
            "description_width": ""
          }
        },
        "6946960440294420a958466d308e236d": {
          "model_module": "@jupyter-widgets/controls",
          "model_module_version": "1.5.0",
          "model_name": "HTMLModel",
          "state": {
            "_dom_classes": [],
            "_model_module": "@jupyter-widgets/controls",
            "_model_module_version": "1.5.0",
            "_model_name": "HTMLModel",
            "_view_count": null,
            "_view_module": "@jupyter-widgets/controls",
            "_view_module_version": "1.5.0",
            "_view_name": "HTMLView",
            "description": "",
            "description_tooltip": null,
            "layout": "IPY_MODEL_183f1fb0d4bb47adb633ddee8338e9b4",
            "placeholder": "​",
            "style": "IPY_MODEL_8841f59c62cf4515a844e0c21f663746",
            "value": "model.safetensors: 100%"
          }
        },
        "6b3c382bd472465b884891c8e29d62da": {
          "model_module": "@jupyter-widgets/base",
          "model_module_version": "1.2.0",
          "model_name": "LayoutModel",
          "state": {
            "_model_module": "@jupyter-widgets/base",
            "_model_module_version": "1.2.0",
            "_model_name": "LayoutModel",
            "_view_count": null,
            "_view_module": "@jupyter-widgets/base",
            "_view_module_version": "1.2.0",
            "_view_name": "LayoutView",
            "align_content": null,
            "align_items": null,
            "align_self": null,
            "border": null,
            "bottom": null,
            "display": null,
            "flex": null,
            "flex_flow": null,
            "grid_area": null,
            "grid_auto_columns": null,
            "grid_auto_flow": null,
            "grid_auto_rows": null,
            "grid_column": null,
            "grid_gap": null,
            "grid_row": null,
            "grid_template_areas": null,
            "grid_template_columns": null,
            "grid_template_rows": null,
            "height": null,
            "justify_content": null,
            "justify_items": null,
            "left": null,
            "margin": null,
            "max_height": null,
            "max_width": null,
            "min_height": null,
            "min_width": null,
            "object_fit": null,
            "object_position": null,
            "order": null,
            "overflow": null,
            "overflow_x": null,
            "overflow_y": null,
            "padding": null,
            "right": null,
            "top": null,
            "visibility": null,
            "width": null
          }
        },
        "77b6d286ceab4578a11e7098b438389c": {
          "model_module": "@jupyter-widgets/controls",
          "model_module_version": "1.5.0",
          "model_name": "HTMLModel",
          "state": {
            "_dom_classes": [],
            "_model_module": "@jupyter-widgets/controls",
            "_model_module_version": "1.5.0",
            "_model_name": "HTMLModel",
            "_view_count": null,
            "_view_module": "@jupyter-widgets/controls",
            "_view_module_version": "1.5.0",
            "_view_name": "HTMLView",
            "description": "",
            "description_tooltip": null,
            "layout": "IPY_MODEL_6b3c382bd472465b884891c8e29d62da",
            "placeholder": "​",
            "style": "IPY_MODEL_b039189b66c84e74a16503a63daab862",
            "value": " 354M/354M [00:18&lt;00:00, 21.9MB/s]"
          }
        },
        "7d82a55a00df4f4fb2101f75f83cc3f5": {
          "model_module": "@jupyter-widgets/base",
          "model_module_version": "1.2.0",
          "model_name": "LayoutModel",
          "state": {
            "_model_module": "@jupyter-widgets/base",
            "_model_module_version": "1.2.0",
            "_model_name": "LayoutModel",
            "_view_count": null,
            "_view_module": "@jupyter-widgets/base",
            "_view_module_version": "1.2.0",
            "_view_name": "LayoutView",
            "align_content": null,
            "align_items": null,
            "align_self": null,
            "border": null,
            "bottom": null,
            "display": null,
            "flex": null,
            "flex_flow": null,
            "grid_area": null,
            "grid_auto_columns": null,
            "grid_auto_flow": null,
            "grid_auto_rows": null,
            "grid_column": null,
            "grid_gap": null,
            "grid_row": null,
            "grid_template_areas": null,
            "grid_template_columns": null,
            "grid_template_rows": null,
            "height": null,
            "justify_content": null,
            "justify_items": null,
            "left": null,
            "margin": null,
            "max_height": null,
            "max_width": null,
            "min_height": null,
            "min_width": null,
            "object_fit": null,
            "object_position": null,
            "order": null,
            "overflow": null,
            "overflow_x": null,
            "overflow_y": null,
            "padding": null,
            "right": null,
            "top": null,
            "visibility": null,
            "width": null
          }
        },
        "851c2e6cc22344c1ade350f17f6c8e79": {
          "model_module": "@jupyter-widgets/base",
          "model_module_version": "1.2.0",
          "model_name": "LayoutModel",
          "state": {
            "_model_module": "@jupyter-widgets/base",
            "_model_module_version": "1.2.0",
            "_model_name": "LayoutModel",
            "_view_count": null,
            "_view_module": "@jupyter-widgets/base",
            "_view_module_version": "1.2.0",
            "_view_name": "LayoutView",
            "align_content": null,
            "align_items": null,
            "align_self": null,
            "border": null,
            "bottom": null,
            "display": null,
            "flex": null,
            "flex_flow": null,
            "grid_area": null,
            "grid_auto_columns": null,
            "grid_auto_flow": null,
            "grid_auto_rows": null,
            "grid_column": null,
            "grid_gap": null,
            "grid_row": null,
            "grid_template_areas": null,
            "grid_template_columns": null,
            "grid_template_rows": null,
            "height": null,
            "justify_content": null,
            "justify_items": null,
            "left": null,
            "margin": null,
            "max_height": null,
            "max_width": null,
            "min_height": null,
            "min_width": null,
            "object_fit": null,
            "object_position": null,
            "order": null,
            "overflow": null,
            "overflow_x": null,
            "overflow_y": null,
            "padding": null,
            "right": null,
            "top": null,
            "visibility": null,
            "width": null
          }
        },
        "87974448ef6f494a82dc96789a7d1645": {
          "model_module": "@jupyter-widgets/controls",
          "model_module_version": "1.5.0",
          "model_name": "ProgressStyleModel",
          "state": {
            "_model_module": "@jupyter-widgets/controls",
            "_model_module_version": "1.5.0",
            "_model_name": "ProgressStyleModel",
            "_view_count": null,
            "_view_module": "@jupyter-widgets/base",
            "_view_module_version": "1.2.0",
            "_view_name": "StyleView",
            "bar_color": null,
            "description_width": ""
          }
        },
        "8841f59c62cf4515a844e0c21f663746": {
          "model_module": "@jupyter-widgets/controls",
          "model_module_version": "1.5.0",
          "model_name": "DescriptionStyleModel",
          "state": {
            "_model_module": "@jupyter-widgets/controls",
            "_model_module_version": "1.5.0",
            "_model_name": "DescriptionStyleModel",
            "_view_count": null,
            "_view_module": "@jupyter-widgets/base",
            "_view_module_version": "1.2.0",
            "_view_name": "StyleView",
            "description_width": ""
          }
        },
        "8990c338079747a8aa015780cbeb1eea": {
          "model_module": "@jupyter-widgets/controls",
          "model_module_version": "1.5.0",
          "model_name": "HTMLModel",
          "state": {
            "_dom_classes": [],
            "_model_module": "@jupyter-widgets/controls",
            "_model_module_version": "1.5.0",
            "_model_name": "HTMLModel",
            "_view_count": null,
            "_view_module": "@jupyter-widgets/controls",
            "_view_module_version": "1.5.0",
            "_view_name": "HTMLView",
            "description": "",
            "description_tooltip": null,
            "layout": "IPY_MODEL_e73c72a8bc61400dbfa8f1013804a4fc",
            "placeholder": "​",
            "style": "IPY_MODEL_e4e72fba615248cc8fca583b9f9add22",
            "value": "config.json: "
          }
        },
        "8b69edadbbbd484b820d2555c74a2bfe": {
          "model_module": "@jupyter-widgets/controls",
          "model_module_version": "1.5.0",
          "model_name": "FloatProgressModel",
          "state": {
            "_dom_classes": [],
            "_model_module": "@jupyter-widgets/controls",
            "_model_module_version": "1.5.0",
            "_model_name": "FloatProgressModel",
            "_view_count": null,
            "_view_module": "@jupyter-widgets/controls",
            "_view_module_version": "1.5.0",
            "_view_name": "ProgressView",
            "bar_style": "success",
            "description": "",
            "description_tooltip": null,
            "layout": "IPY_MODEL_851c2e6cc22344c1ade350f17f6c8e79",
            "max": 354492753,
            "min": 0,
            "orientation": "horizontal",
            "style": "IPY_MODEL_3a205d85f2304e08a8070d2fd82e4855",
            "value": 354492753
          }
        },
        "8f72a9da440a4e09a0781f8ac6b53496": {
          "model_module": "@jupyter-widgets/base",
          "model_module_version": "1.2.0",
          "model_name": "LayoutModel",
          "state": {
            "_model_module": "@jupyter-widgets/base",
            "_model_module_version": "1.2.0",
            "_model_name": "LayoutModel",
            "_view_count": null,
            "_view_module": "@jupyter-widgets/base",
            "_view_module_version": "1.2.0",
            "_view_name": "LayoutView",
            "align_content": null,
            "align_items": null,
            "align_self": null,
            "border": null,
            "bottom": null,
            "display": null,
            "flex": null,
            "flex_flow": null,
            "grid_area": null,
            "grid_auto_columns": null,
            "grid_auto_flow": null,
            "grid_auto_rows": null,
            "grid_column": null,
            "grid_gap": null,
            "grid_row": null,
            "grid_template_areas": null,
            "grid_template_columns": null,
            "grid_template_rows": null,
            "height": null,
            "justify_content": null,
            "justify_items": null,
            "left": null,
            "margin": null,
            "max_height": null,
            "max_width": null,
            "min_height": null,
            "min_width": null,
            "object_fit": null,
            "object_position": null,
            "order": null,
            "overflow": null,
            "overflow_x": null,
            "overflow_y": null,
            "padding": null,
            "right": null,
            "top": null,
            "visibility": null,
            "width": "20px"
          }
        },
        "913c1d4d354d48d5a455ddd7d16eb34a": {
          "model_module": "@jupyter-widgets/controls",
          "model_module_version": "1.5.0",
          "model_name": "FloatProgressModel",
          "state": {
            "_dom_classes": [],
            "_model_module": "@jupyter-widgets/controls",
            "_model_module_version": "1.5.0",
            "_model_name": "FloatProgressModel",
            "_view_count": null,
            "_view_module": "@jupyter-widgets/controls",
            "_view_module_version": "1.5.0",
            "_view_name": "ProgressView",
            "bar_style": "success",
            "description": "",
            "description_tooltip": null,
            "layout": "IPY_MODEL_7d82a55a00df4f4fb2101f75f83cc3f5",
            "max": 354407128,
            "min": 0,
            "orientation": "horizontal",
            "style": "IPY_MODEL_87974448ef6f494a82dc96789a7d1645",
            "value": 354407128
          }
        },
        "a2bc2565927d445b870377a1c1e9c0ab": {
          "model_module": "@jupyter-widgets/base",
          "model_module_version": "1.2.0",
          "model_name": "LayoutModel",
          "state": {
            "_model_module": "@jupyter-widgets/base",
            "_model_module_version": "1.2.0",
            "_model_name": "LayoutModel",
            "_view_count": null,
            "_view_module": "@jupyter-widgets/base",
            "_view_module_version": "1.2.0",
            "_view_name": "LayoutView",
            "align_content": null,
            "align_items": null,
            "align_self": null,
            "border": null,
            "bottom": null,
            "display": null,
            "flex": null,
            "flex_flow": null,
            "grid_area": null,
            "grid_auto_columns": null,
            "grid_auto_flow": null,
            "grid_auto_rows": null,
            "grid_column": null,
            "grid_gap": null,
            "grid_row": null,
            "grid_template_areas": null,
            "grid_template_columns": null,
            "grid_template_rows": null,
            "height": null,
            "justify_content": null,
            "justify_items": null,
            "left": null,
            "margin": null,
            "max_height": null,
            "max_width": null,
            "min_height": null,
            "min_width": null,
            "object_fit": null,
            "object_position": null,
            "order": null,
            "overflow": null,
            "overflow_x": null,
            "overflow_y": null,
            "padding": null,
            "right": null,
            "top": null,
            "visibility": null,
            "width": null
          }
        },
        "ae3e271d7b4b4e03af504dce88bd5a6c": {
          "model_module": "@jupyter-widgets/base",
          "model_module_version": "1.2.0",
          "model_name": "LayoutModel",
          "state": {
            "_model_module": "@jupyter-widgets/base",
            "_model_module_version": "1.2.0",
            "_model_name": "LayoutModel",
            "_view_count": null,
            "_view_module": "@jupyter-widgets/base",
            "_view_module_version": "1.2.0",
            "_view_name": "LayoutView",
            "align_content": null,
            "align_items": null,
            "align_self": null,
            "border": null,
            "bottom": null,
            "display": null,
            "flex": null,
            "flex_flow": null,
            "grid_area": null,
            "grid_auto_columns": null,
            "grid_auto_flow": null,
            "grid_auto_rows": null,
            "grid_column": null,
            "grid_gap": null,
            "grid_row": null,
            "grid_template_areas": null,
            "grid_template_columns": null,
            "grid_template_rows": null,
            "height": null,
            "justify_content": null,
            "justify_items": null,
            "left": null,
            "margin": null,
            "max_height": null,
            "max_width": null,
            "min_height": null,
            "min_width": null,
            "object_fit": null,
            "object_position": null,
            "order": null,
            "overflow": null,
            "overflow_x": null,
            "overflow_y": null,
            "padding": null,
            "right": null,
            "top": null,
            "visibility": null,
            "width": null
          }
        },
        "b039189b66c84e74a16503a63daab862": {
          "model_module": "@jupyter-widgets/controls",
          "model_module_version": "1.5.0",
          "model_name": "DescriptionStyleModel",
          "state": {
            "_model_module": "@jupyter-widgets/controls",
            "_model_module_version": "1.5.0",
            "_model_name": "DescriptionStyleModel",
            "_view_count": null,
            "_view_module": "@jupyter-widgets/base",
            "_view_module_version": "1.2.0",
            "_view_name": "StyleView",
            "description_width": ""
          }
        },
        "b512cbee9080459fa68b909c2c82e85c": {
          "model_module": "@jupyter-widgets/base",
          "model_module_version": "1.2.0",
          "model_name": "LayoutModel",
          "state": {
            "_model_module": "@jupyter-widgets/base",
            "_model_module_version": "1.2.0",
            "_model_name": "LayoutModel",
            "_view_count": null,
            "_view_module": "@jupyter-widgets/base",
            "_view_module_version": "1.2.0",
            "_view_name": "LayoutView",
            "align_content": null,
            "align_items": null,
            "align_self": null,
            "border": null,
            "bottom": null,
            "display": null,
            "flex": null,
            "flex_flow": null,
            "grid_area": null,
            "grid_auto_columns": null,
            "grid_auto_flow": null,
            "grid_auto_rows": null,
            "grid_column": null,
            "grid_gap": null,
            "grid_row": null,
            "grid_template_areas": null,
            "grid_template_columns": null,
            "grid_template_rows": null,
            "height": null,
            "justify_content": null,
            "justify_items": null,
            "left": null,
            "margin": null,
            "max_height": null,
            "max_width": null,
            "min_height": null,
            "min_width": null,
            "object_fit": null,
            "object_position": null,
            "order": null,
            "overflow": null,
            "overflow_x": null,
            "overflow_y": null,
            "padding": null,
            "right": null,
            "top": null,
            "visibility": null,
            "width": null
          }
        },
        "b6f0216b336d448f98fa961694ed9128": {
          "model_module": "@jupyter-widgets/controls",
          "model_module_version": "1.5.0",
          "model_name": "HTMLModel",
          "state": {
            "_dom_classes": [],
            "_model_module": "@jupyter-widgets/controls",
            "_model_module_version": "1.5.0",
            "_model_name": "HTMLModel",
            "_view_count": null,
            "_view_module": "@jupyter-widgets/controls",
            "_view_module_version": "1.5.0",
            "_view_name": "HTMLView",
            "description": "",
            "description_tooltip": null,
            "layout": "IPY_MODEL_a2bc2565927d445b870377a1c1e9c0ab",
            "placeholder": "​",
            "style": "IPY_MODEL_ba8afdf1b2a14b22a4a1c646579504ff",
            "value": " 69.6k/? [00:00&lt;00:00, 1.35MB/s]"
          }
        },
        "ba8afdf1b2a14b22a4a1c646579504ff": {
          "model_module": "@jupyter-widgets/controls",
          "model_module_version": "1.5.0",
          "model_name": "DescriptionStyleModel",
          "state": {
            "_model_module": "@jupyter-widgets/controls",
            "_model_module_version": "1.5.0",
            "_model_name": "DescriptionStyleModel",
            "_view_count": null,
            "_view_module": "@jupyter-widgets/base",
            "_view_module_version": "1.2.0",
            "_view_name": "StyleView",
            "description_width": ""
          }
        },
        "be1174f3ed5d419b8413af74c543d428": {
          "model_module": "@jupyter-widgets/controls",
          "model_module_version": "1.5.0",
          "model_name": "HTMLModel",
          "state": {
            "_dom_classes": [],
            "_model_module": "@jupyter-widgets/controls",
            "_model_module_version": "1.5.0",
            "_model_name": "HTMLModel",
            "_view_count": null,
            "_view_module": "@jupyter-widgets/controls",
            "_view_module_version": "1.5.0",
            "_view_name": "HTMLView",
            "description": "",
            "description_tooltip": null,
            "layout": "IPY_MODEL_3c2a8748a46d49bcb089b17e04dc9f95",
            "placeholder": "​",
            "style": "IPY_MODEL_e9fa1f490d184334be3a6fa761ef8d0b",
            "value": "pytorch_model.bin: 100%"
          }
        },
        "c8ade36f6f5945febbd0af5766187e1c": {
          "model_module": "@jupyter-widgets/base",
          "model_module_version": "1.2.0",
          "model_name": "LayoutModel",
          "state": {
            "_model_module": "@jupyter-widgets/base",
            "_model_module_version": "1.2.0",
            "_model_name": "LayoutModel",
            "_view_count": null,
            "_view_module": "@jupyter-widgets/base",
            "_view_module_version": "1.2.0",
            "_view_name": "LayoutView",
            "align_content": null,
            "align_items": null,
            "align_self": null,
            "border": null,
            "bottom": null,
            "display": null,
            "flex": null,
            "flex_flow": null,
            "grid_area": null,
            "grid_auto_columns": null,
            "grid_auto_flow": null,
            "grid_auto_rows": null,
            "grid_column": null,
            "grid_gap": null,
            "grid_row": null,
            "grid_template_areas": null,
            "grid_template_columns": null,
            "grid_template_rows": null,
            "height": null,
            "justify_content": null,
            "justify_items": null,
            "left": null,
            "margin": null,
            "max_height": null,
            "max_width": null,
            "min_height": null,
            "min_width": null,
            "object_fit": null,
            "object_position": null,
            "order": null,
            "overflow": null,
            "overflow_x": null,
            "overflow_y": null,
            "padding": null,
            "right": null,
            "top": null,
            "visibility": null,
            "width": null
          }
        },
        "c936442fd9cd4b5fb36173f9561c779e": {
          "model_module": "@jupyter-widgets/controls",
          "model_module_version": "1.5.0",
          "model_name": "HBoxModel",
          "state": {
            "_dom_classes": [],
            "_model_module": "@jupyter-widgets/controls",
            "_model_module_version": "1.5.0",
            "_model_name": "HBoxModel",
            "_view_count": null,
            "_view_module": "@jupyter-widgets/controls",
            "_view_module_version": "1.5.0",
            "_view_name": "HBoxView",
            "box_style": "",
            "children": [
              "IPY_MODEL_be1174f3ed5d419b8413af74c543d428",
              "IPY_MODEL_8b69edadbbbd484b820d2555c74a2bfe",
              "IPY_MODEL_77b6d286ceab4578a11e7098b438389c"
            ],
            "layout": "IPY_MODEL_ae3e271d7b4b4e03af504dce88bd5a6c"
          }
        },
        "e4e72fba615248cc8fca583b9f9add22": {
          "model_module": "@jupyter-widgets/controls",
          "model_module_version": "1.5.0",
          "model_name": "DescriptionStyleModel",
          "state": {
            "_model_module": "@jupyter-widgets/controls",
            "_model_module_version": "1.5.0",
            "_model_name": "DescriptionStyleModel",
            "_view_count": null,
            "_view_module": "@jupyter-widgets/base",
            "_view_module_version": "1.2.0",
            "_view_name": "StyleView",
            "description_width": ""
          }
        },
        "e73c72a8bc61400dbfa8f1013804a4fc": {
          "model_module": "@jupyter-widgets/base",
          "model_module_version": "1.2.0",
          "model_name": "LayoutModel",
          "state": {
            "_model_module": "@jupyter-widgets/base",
            "_model_module_version": "1.2.0",
            "_model_name": "LayoutModel",
            "_view_count": null,
            "_view_module": "@jupyter-widgets/base",
            "_view_module_version": "1.2.0",
            "_view_name": "LayoutView",
            "align_content": null,
            "align_items": null,
            "align_self": null,
            "border": null,
            "bottom": null,
            "display": null,
            "flex": null,
            "flex_flow": null,
            "grid_area": null,
            "grid_auto_columns": null,
            "grid_auto_flow": null,
            "grid_auto_rows": null,
            "grid_column": null,
            "grid_gap": null,
            "grid_row": null,
            "grid_template_areas": null,
            "grid_template_columns": null,
            "grid_template_rows": null,
            "height": null,
            "justify_content": null,
            "justify_items": null,
            "left": null,
            "margin": null,
            "max_height": null,
            "max_width": null,
            "min_height": null,
            "min_width": null,
            "object_fit": null,
            "object_position": null,
            "order": null,
            "overflow": null,
            "overflow_x": null,
            "overflow_y": null,
            "padding": null,
            "right": null,
            "top": null,
            "visibility": null,
            "width": null
          }
        },
        "e9fa1f490d184334be3a6fa761ef8d0b": {
          "model_module": "@jupyter-widgets/controls",
          "model_module_version": "1.5.0",
          "model_name": "DescriptionStyleModel",
          "state": {
            "_model_module": "@jupyter-widgets/controls",
            "_model_module_version": "1.5.0",
            "_model_name": "DescriptionStyleModel",
            "_view_count": null,
            "_view_module": "@jupyter-widgets/base",
            "_view_module_version": "1.2.0",
            "_view_name": "StyleView",
            "description_width": ""
          }
        },
        "f78a96887da748cc9108a2fddf7fb849": {
          "model_module": "@jupyter-widgets/controls",
          "model_module_version": "1.5.0",
          "model_name": "HBoxModel",
          "state": {
            "_dom_classes": [],
            "_model_module": "@jupyter-widgets/controls",
            "_model_module_version": "1.5.0",
            "_model_name": "HBoxModel",
            "_view_count": null,
            "_view_module": "@jupyter-widgets/controls",
            "_view_module_version": "1.5.0",
            "_view_name": "HBoxView",
            "box_style": "",
            "children": [
              "IPY_MODEL_6946960440294420a958466d308e236d",
              "IPY_MODEL_913c1d4d354d48d5a455ddd7d16eb34a",
              "IPY_MODEL_f935b2b04eff4595a1a48f05cd3f850f"
            ],
            "layout": "IPY_MODEL_b512cbee9080459fa68b909c2c82e85c"
          }
        },
        "f935b2b04eff4595a1a48f05cd3f850f": {
          "model_module": "@jupyter-widgets/controls",
          "model_module_version": "1.5.0",
          "model_name": "HTMLModel",
          "state": {
            "_dom_classes": [],
            "_model_module": "@jupyter-widgets/controls",
            "_model_module_version": "1.5.0",
            "_model_name": "HTMLModel",
            "_view_count": null,
            "_view_module": "@jupyter-widgets/controls",
            "_view_module_version": "1.5.0",
            "_view_name": "HTMLView",
            "description": "",
            "description_tooltip": null,
            "layout": "IPY_MODEL_c8ade36f6f5945febbd0af5766187e1c",
            "placeholder": "​",
            "style": "IPY_MODEL_41d30411049b40e7afcf28e9d89053d0",
            "value": " 354M/354M [00:16&lt;00:00, 26.0MB/s]"
          }
        },
        "fd867b8f7d0c4614b82b21f8524b1161": {
          "model_module": "@jupyter-widgets/base",
          "model_module_version": "1.2.0",
          "model_name": "LayoutModel",
          "state": {
            "_model_module": "@jupyter-widgets/base",
            "_model_module_version": "1.2.0",
            "_model_name": "LayoutModel",
            "_view_count": null,
            "_view_module": "@jupyter-widgets/base",
            "_view_module_version": "1.2.0",
            "_view_name": "LayoutView",
            "align_content": null,
            "align_items": null,
            "align_self": null,
            "border": null,
            "bottom": null,
            "display": null,
            "flex": null,
            "flex_flow": null,
            "grid_area": null,
            "grid_auto_columns": null,
            "grid_auto_flow": null,
            "grid_auto_rows": null,
            "grid_column": null,
            "grid_gap": null,
            "grid_row": null,
            "grid_template_areas": null,
            "grid_template_columns": null,
            "grid_template_rows": null,
            "height": null,
            "justify_content": null,
            "justify_items": null,
            "left": null,
            "margin": null,
            "max_height": null,
            "max_width": null,
            "min_height": null,
            "min_width": null,
            "object_fit": null,
            "object_position": null,
            "order": null,
            "overflow": null,
            "overflow_x": null,
            "overflow_y": null,
            "padding": null,
            "right": null,
            "top": null,
            "visibility": null,
            "width": null
          }
        }
      }
    }
  },
  "nbformat": 4,
  "nbformat_minor": 0
}
